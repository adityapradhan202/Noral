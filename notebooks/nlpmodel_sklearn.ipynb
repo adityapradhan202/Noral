{
 "cells": [
  {
   "cell_type": "code",
   "execution_count": 1,
   "metadata": {},
   "outputs": [],
   "source": [
    "import pandas as pd\n",
    "from sklearn.model_selection import train_test_split\n",
    "from sklearn.feature_extraction.text import CountVectorizer, TfidfVectorizer\n",
    "from sklearn.metrics import classification_report, accuracy_score"
   ]
  },
  {
   "cell_type": "code",
   "execution_count": 2,
   "metadata": {},
   "outputs": [
    {
     "data": {
      "text/html": [
       "<div>\n",
       "<style scoped>\n",
       "    .dataframe tbody tr th:only-of-type {\n",
       "        vertical-align: middle;\n",
       "    }\n",
       "\n",
       "    .dataframe tbody tr th {\n",
       "        vertical-align: top;\n",
       "    }\n",
       "\n",
       "    .dataframe thead th {\n",
       "        text-align: right;\n",
       "    }\n",
       "</style>\n",
       "<table border=\"1\" class=\"dataframe\">\n",
       "  <thead>\n",
       "    <tr style=\"text-align: right;\">\n",
       "      <th></th>\n",
       "      <th>Description</th>\n",
       "      <th>label</th>\n",
       "    </tr>\n",
       "  </thead>\n",
       "  <tbody>\n",
       "    <tr>\n",
       "      <th>0</th>\n",
       "      <td>Persistent tooth pain likely from caries</td>\n",
       "      <td>caries</td>\n",
       "    </tr>\n",
       "    <tr>\n",
       "      <th>1</th>\n",
       "      <td>Potential tooth loss due to swollen gums</td>\n",
       "      <td>gingivitis</td>\n",
       "    </tr>\n",
       "    <tr>\n",
       "      <th>2</th>\n",
       "      <td>Persistent mouth ulcers causing irritation</td>\n",
       "      <td>mouth_ulcer</td>\n",
       "    </tr>\n",
       "    <tr>\n",
       "      <th>3</th>\n",
       "      <td>Teeth becoming yellow due to natural aging</td>\n",
       "      <td>tooth_discoloration</td>\n",
       "    </tr>\n",
       "    <tr>\n",
       "      <th>4</th>\n",
       "      <td>Looking for solutions for yellowed teeth</td>\n",
       "      <td>tooth_discoloration</td>\n",
       "    </tr>\n",
       "    <tr>\n",
       "      <th>...</th>\n",
       "      <td>...</td>\n",
       "      <td>...</td>\n",
       "    </tr>\n",
       "    <tr>\n",
       "      <th>995</th>\n",
       "      <td>Persistent mouth ulcers causing irritation</td>\n",
       "      <td>mouth_ulcer</td>\n",
       "    </tr>\n",
       "    <tr>\n",
       "      <th>996</th>\n",
       "      <td>Teeth becoming yellow due to natural aging</td>\n",
       "      <td>tooth_discoloration</td>\n",
       "    </tr>\n",
       "    <tr>\n",
       "      <th>997</th>\n",
       "      <td>Persistent mouth ulcers causing irritation</td>\n",
       "      <td>mouth_ulcer</td>\n",
       "    </tr>\n",
       "    <tr>\n",
       "      <th>998</th>\n",
       "      <td>Gum inflammation noticed with signs of gingivitis</td>\n",
       "      <td>gingivitis</td>\n",
       "    </tr>\n",
       "    <tr>\n",
       "      <th>999</th>\n",
       "      <td>Persistent tooth pain likely from caries</td>\n",
       "      <td>caries</td>\n",
       "    </tr>\n",
       "  </tbody>\n",
       "</table>\n",
       "<p>1000 rows × 2 columns</p>\n",
       "</div>"
      ],
      "text/plain": [
       "                                           Description                label\n",
       "0             Persistent tooth pain likely from caries               caries\n",
       "1             Potential tooth loss due to swollen gums           gingivitis\n",
       "2           Persistent mouth ulcers causing irritation          mouth_ulcer\n",
       "3           Teeth becoming yellow due to natural aging  tooth_discoloration\n",
       "4             Looking for solutions for yellowed teeth  tooth_discoloration\n",
       "..                                                 ...                  ...\n",
       "995         Persistent mouth ulcers causing irritation          mouth_ulcer\n",
       "996         Teeth becoming yellow due to natural aging  tooth_discoloration\n",
       "997         Persistent mouth ulcers causing irritation          mouth_ulcer\n",
       "998  Gum inflammation noticed with signs of gingivitis           gingivitis\n",
       "999           Persistent tooth pain likely from caries               caries\n",
       "\n",
       "[1000 rows x 2 columns]"
      ]
     },
     "execution_count": 2,
     "metadata": {},
     "output_type": "execute_result"
    }
   ],
   "source": [
    "df = pd.read_csv('symptoms_data/refined_synthetic_dental_dataset.csv')\n",
    "df"
   ]
  },
  {
   "cell_type": "code",
   "execution_count": 3,
   "metadata": {},
   "outputs": [],
   "source": [
    "# Split the data\n",
    "X = df[\"Description\"]\n",
    "y = df[\"label\"]\n",
    "\n",
    "X_train, X_test, y_train, y_test = train_test_split(X, y, test_size=0.3, random_state=42, stratify=y)\n",
    "\n",
    "# Convert text to features\n",
    "vectorizer = TfidfVectorizer()  # You can switch to CountVectorizer() if needed\n",
    "X_train_vec = vectorizer.fit_transform(X_train)\n",
    "X_test_vec = vectorizer.transform(X_test)"
   ]
  },
  {
   "cell_type": "code",
   "execution_count": 4,
   "metadata": {},
   "outputs": [
    {
     "name": "stdout",
     "output_type": "stream",
     "text": [
      "Naive Bayes Results:\n",
      "                     precision    recall  f1-score   support\n",
      "\n",
      "             caries       1.00      1.00      1.00        60\n",
      "         gingivitis       1.00      1.00      1.00        60\n",
      "         hypodontia       1.00      1.00      1.00        60\n",
      "        mouth_ulcer       1.00      1.00      1.00        60\n",
      "tooth_discoloration       1.00      1.00      1.00        60\n",
      "\n",
      "           accuracy                           1.00       300\n",
      "          macro avg       1.00      1.00      1.00       300\n",
      "       weighted avg       1.00      1.00      1.00       300\n",
      "\n",
      "Accuracy: 1.0\n"
     ]
    }
   ],
   "source": [
    "from sklearn.naive_bayes import MultinomialNB\n",
    "\n",
    "# Train Naive Bayes model\n",
    "nb_model = MultinomialNB()\n",
    "nb_model.fit(X_train_vec, y_train)\n",
    "\n",
    "# Evaluate\n",
    "y_pred_nb = nb_model.predict(X_test_vec)\n",
    "print(\"Naive Bayes Results:\")\n",
    "print(classification_report(y_test, y_pred_nb))\n",
    "print(\"Accuracy:\", accuracy_score(y_test, y_pred_nb))"
   ]
  },
  {
   "cell_type": "code",
   "execution_count": 5,
   "metadata": {},
   "outputs": [],
   "source": [
    "from joblib import dump, load"
   ]
  },
  {
   "cell_type": "code",
   "execution_count": 6,
   "metadata": {},
   "outputs": [
    {
     "name": "stdout",
     "output_type": "stream",
     "text": [
      "Model has been saved to path: models/nb_model.joblib\n",
      "Vectorizer has also been saved to path: models/vectorizer.joblib\n"
     ]
    }
   ],
   "source": [
    "saved_model_path = 'models/nb_model.joblib'\n",
    "vectorizer_model_path = 'models/vectorizer.joblib'\n",
    "try:\n",
    "    dump(value=nb_model, filename=saved_model_path)\n",
    "    print(f\"Model has been saved to path: {saved_model_path}\")\n",
    "\n",
    "    dump(vectorizer, vectorizer_model_path)\n",
    "    print(f\"Vectorizer has also been saved to path: {vectorizer_model_path}\")\n",
    "except:\n",
    "    print(\"Some exception occured!\")"
   ]
  },
  {
   "cell_type": "markdown",
   "metadata": {},
   "source": [
    "### Creating a function to classify text"
   ]
  },
  {
   "cell_type": "code",
   "execution_count": 7,
   "metadata": {},
   "outputs": [],
   "source": [
    "from joblib import load\n",
    "from sklearn.feature_extraction.text import TfidfVectorizer\n",
    "from sklearn.naive_bayes import MultinomialNB\n",
    "\n",
    "# Load saved model and vectorizer\n",
    "saved_nb_model = load(filename='models/nb_model.joblib')\n",
    "saved_vectorizer = load(filename='models/vectorizer.joblib')\n",
    "\n",
    "def nb_predict(text: str, model: MultinomialNB = saved_nb_model, vectorizer: TfidfVectorizer = saved_vectorizer):\n",
    "    \"\"\"\n",
    "    Takes in an entire text, separates it into segments of text, \n",
    "    and identifies the symptoms of oral disease.\n",
    "\n",
    "    Parameters:\n",
    "    - text (str): The input text to analyze.\n",
    "    - model (MultinomialNB): The trained Naive Bayes model.\n",
    "    - vectorizer (TfidfVectorizer): The fitted TfidfVectorizer for text transformation.\n",
    "\n",
    "    Returns:\n",
    "    - set: A set of predicted disease categories.\n",
    "    \"\"\"\n",
    "    # Split the input text into sentences or segments\n",
    "    text_list = text.split(\". \")\n",
    "    output_set = set()\n",
    "\n",
    "    for txt in text_list:\n",
    "        # Transform the text using the vectorizer\n",
    "        transformed_text = vectorizer.transform([txt])  # Input must be a list\n",
    "        # Predict the class\n",
    "        pred_class = model.predict(transformed_text)[0]  # Get the first (and only) prediction\n",
    "        # Add the prediction to the set\n",
    "        output_set.add(pred_class)\n",
    "\n",
    "    return output_set"
   ]
  },
  {
   "cell_type": "code",
   "execution_count": 8,
   "metadata": {},
   "outputs": [
    {
     "data": {
      "text/plain": [
       "{'caries', 'gingivitis', 'tooth_discoloration'}"
      ]
     },
     "execution_count": 8,
     "metadata": {},
     "output_type": "execute_result"
    }
   ],
   "source": [
    "nb_predict(\"I have cavity. My gums are getting red. My teeth are yellow in color.\")"
   ]
  }
 ],
 "metadata": {
  "kernelspec": {
   "display_name": "Python 3",
   "language": "python",
   "name": "python3"
  },
  "language_info": {
   "codemirror_mode": {
    "name": "ipython",
    "version": 3
   },
   "file_extension": ".py",
   "mimetype": "text/x-python",
   "name": "python",
   "nbconvert_exporter": "python",
   "pygments_lexer": "ipython3",
   "version": "3.12.1"
  }
 },
 "nbformat": 4,
 "nbformat_minor": 2
}
